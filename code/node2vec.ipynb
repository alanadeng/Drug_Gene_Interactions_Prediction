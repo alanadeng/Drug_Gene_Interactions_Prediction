{
 "cells": [
  {
   "cell_type": "code",
   "execution_count": 1,
   "metadata": {},
   "outputs": [],
   "source": [
    "import numpy as np\n",
    "import networkx as nx\n",
    "import pandas as pd\n",
    "from node2vec import Node2Vec"
   ]
  },
  {
   "cell_type": "code",
   "execution_count": 2,
   "metadata": {},
   "outputs": [],
   "source": [
    "file_path = '../data/dgidb/preprocessed_34_10.tsv'\n",
    "interaction_matrix = pd.read_csv(file_path, sep='\\t', index_col=0)"
   ]
  },
  {
   "cell_type": "code",
   "execution_count": 3,
   "metadata": {},
   "outputs": [],
   "source": [
    "# Generate node lists\n",
    "drugs = list(interaction_matrix.columns)\n",
    "genes = list(interaction_matrix.index)"
   ]
  },
  {
   "cell_type": "code",
   "execution_count": 4,
   "metadata": {},
   "outputs": [],
   "source": [
    "G = nx.Graph()\n",
    "G.add_nodes_from(drugs, bipartite=0)\n",
    "G.add_nodes_from(genes, bipartite=1)\n",
    "\n",
    "for i in range (len(drugs)):\n",
    "    for j in range (len(genes)):\n",
    "        if interaction_matrix.iloc[j,i] == 0:\n",
    "            G.add_edge(drugs[i], genes[j])"
   ]
  },
  {
   "cell_type": "code",
   "execution_count": 5,
   "metadata": {},
   "outputs": [
    {
     "name": "stderr",
     "output_type": "stream",
     "text": [
      "Computing transition probabilities: 100%|██████████| 1636/1636 [26:09<00:00,  1.04it/s]\n",
      "Generating walks (CPU: 1): 100%|██████████| 16/16 [00:29<00:00,  1.82s/it]\n",
      "Generating walks (CPU: 2): 100%|██████████| 16/16 [00:24<00:00,  1.56s/it]\n",
      "Generating walks (CPU: 3): 100%|██████████| 16/16 [00:28<00:00,  1.76s/it]\n",
      "Generating walks (CPU: 4): 100%|██████████| 16/16 [00:22<00:00,  1.43s/it]\n",
      "Generating walks (CPU: 5): 100%|██████████| 16/16 [00:17<00:00,  1.11s/it]\n"
     ]
    }
   ],
   "source": [
    "node2vec = Node2Vec(G, dimensions=128, walk_length=10, num_walks=80, workers=5)\n",
    "model = node2vec.fit(window=5, min_count=1, batch_words=4)"
   ]
  },
  {
   "cell_type": "code",
   "execution_count": 6,
   "metadata": {},
   "outputs": [],
   "source": [
    "embeddings = {node: model.wv[node] for node in G.nodes()}"
   ]
  },
  {
   "cell_type": "code",
   "execution_count": 7,
   "metadata": {},
   "outputs": [],
   "source": [
    "# Extract embeddings for drugs and genes\n",
    "drug_embeddings = {drug: embeddings[drug] for drug in drugs}\n",
    "gene_embeddings = {gene: embeddings[gene] for gene in genes}\n",
    "\n",
    "# Convert to pandas DataFrames\n",
    "drug_embeddings_df = pd.DataFrame.from_dict(drug_embeddings, orient='index')\n",
    "gene_embeddings_df = pd.DataFrame.from_dict(gene_embeddings, orient='index')\n",
    "\n",
    "# Export to CSV files\n",
    "save_path = '../data/dgidb/embeddings'\n",
    "\n",
    "drug_embeddings_df.to_csv(save_path+'/node2vec_drug_embeddings.csv', header=None)\n",
    "gene_embeddings_df.to_csv(save_path+'/node2vec_gene_embeddings.csv', header=None)"
   ]
  }
 ],
 "metadata": {
  "kernelspec": {
   "display_name": "mlp",
   "language": "python",
   "name": "python3"
  },
  "language_info": {
   "codemirror_mode": {
    "name": "ipython",
    "version": 3
   },
   "file_extension": ".py",
   "mimetype": "text/x-python",
   "name": "python",
   "nbconvert_exporter": "python",
   "pygments_lexer": "ipython3",
   "version": "3.8.16"
  }
 },
 "nbformat": 4,
 "nbformat_minor": 2
}
