{
 "cells": [
  {
   "cell_type": "code",
   "execution_count": 1,
   "metadata": {
    "collapsed": false,
    "pycharm": {
     "name": "#%%\n"
    }
   },
   "outputs": [],
   "source": [
    "import numpy as np\n",
    "import networkx as nx\n",
    "import pandas as pd\n",
    "from deepwalk import DeepWalk"
   ]
  },
  {
   "cell_type": "code",
   "execution_count": 2,
   "metadata": {
    "collapsed": false,
    "pycharm": {
     "name": "#%%\n"
    }
   },
   "outputs": [],
   "source": [
    "file_path = '../data/dgidb/preprocessed_34_10.tsv'\n",
    "interaction_matrix = pd.read_csv(file_path, sep='\\t', index_col=0)"
   ]
  },
  {
   "cell_type": "code",
   "execution_count": 3,
   "metadata": {
    "collapsed": false,
    "pycharm": {
     "name": "#%%\n"
    }
   },
   "outputs": [],
   "source": [
    "# Generate node lists\n",
    "drugs = list(interaction_matrix.columns)\n",
    "genes = list(interaction_matrix.index)"
   ]
  },
  {
   "cell_type": "code",
   "execution_count": 4,
   "metadata": {
    "collapsed": false,
    "pycharm": {
     "name": "#%%\n"
    }
   },
   "outputs": [],
   "source": [
    "G = nx.Graph()\n",
    "G.add_nodes_from(drugs, bipartite=0)\n",
    "G.add_nodes_from(genes, bipartite=1)\n",
    "\n",
    "for i in range (len(drugs)):\n",
    "    for j in range (len(genes)):\n",
    "        if interaction_matrix.iloc[j,i] == 0:\n",
    "            G.add_edge(drugs[i], genes[j])"
   ]
  },
  {
   "cell_type": "code",
   "execution_count": 5,
   "metadata": {
    "collapsed": false,
    "pycharm": {
     "name": "#%%\n"
    }
   },
   "outputs": [],
   "source": [
    "model = DeepWalk(G, walk_length=10, num_walks=80, workers=5)"
   ]
  },
  {
   "cell_type": "code",
   "execution_count": 6,
   "metadata": {
    "collapsed": false,
    "pycharm": {
     "name": "#%%\n"
    }
   },
   "outputs": [
    {
     "name": "stdout",
     "output_type": "stream",
     "text": [
      "Learning embedding vectors...\n",
      "Learning embedding vectors done!\n"
     ]
    }
   ],
   "source": [
    "model.train(window_size=5, iter=100)\n",
    "embeddings = model.get_embeddings()"
   ]
  },
  {
   "cell_type": "code",
   "execution_count": 7,
   "metadata": {
    "collapsed": false,
    "pycharm": {
     "name": "#%%\n"
    }
   },
   "outputs": [],
   "source": [
    "# Extract embeddings for drugs and genes\n",
    "drug_embeddings = {drug: embeddings[drug] for drug in drugs}\n",
    "gene_embeddings = {gene: embeddings[gene] for gene in genes}\n",
    "\n",
    "# Convert to pandas DataFrames\n",
    "drug_embeddings_df = pd.DataFrame.from_dict(drug_embeddings, orient='index')\n",
    "gene_embeddings_df = pd.DataFrame.from_dict(gene_embeddings, orient='index')\n",
    "\n",
    "# Export to CSV files\n",
    "save_path = '../data/dgidb/embeddings'\n",
    "\n",
    "drug_embeddings_df.to_csv(save_path+'/deepwalk_drug_embeddings.csv', header=None)\n",
    "gene_embeddings_df.to_csv(save_path+'/deepwalk_gene_embeddings.csv', header=None)"
   ]
  }
 ],
 "metadata": {
  "kernelspec": {
   "display_name": "mlp",
   "language": "python",
   "name": "python3"
  },
  "language_info": {
   "codemirror_mode": {
    "name": "ipython",
    "version": 3
   },
   "file_extension": ".py",
   "mimetype": "text/x-python",
   "name": "python",
   "nbconvert_exporter": "python",
   "pygments_lexer": "ipython3",
   "version": "3.8.16"
  }
 },
 "nbformat": 4,
 "nbformat_minor": 2
}
