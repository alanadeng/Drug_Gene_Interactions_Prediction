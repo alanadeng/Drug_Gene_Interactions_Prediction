{
 "cells": [
  {
   "cell_type": "code",
   "execution_count": 28,
   "metadata": {},
   "outputs": [],
   "source": [
    "import pandas as pd\n",
    "import numpy as np\n",
    "import torch\n",
    "import dgl\n",
    "from torch.optim import SparseAdam\n",
    "from torch.utils.data import DataLoader\n",
    "from dgl.nn.pytorch import MetaPath2Vec"
   ]
  },
  {
   "cell_type": "code",
   "execution_count": 29,
   "metadata": {},
   "outputs": [],
   "source": [
    "file_path = '../data/dgidb/preprocessed_34_10.tsv'\n",
    "interaction_matrix = pd.read_csv(file_path, sep='\\t', index_col=0)"
   ]
  },
  {
   "cell_type": "code",
   "execution_count": 30,
   "metadata": {},
   "outputs": [],
   "source": [
    "# Generate node lists\n",
    "drugs = list(interaction_matrix.columns)\n",
    "genes = list(interaction_matrix.index)\n",
    "\n",
    "# Map drugs and genes to unique IDs\n",
    "drug_to_id = {drug: idx for idx, drug in enumerate(drugs)}\n",
    "gene_to_id = {gene: idx for idx, gene in enumerate(genes)}\n",
    "\n",
    "# Extract edges using the mappings\n",
    "edges = []\n",
    "for gene, interactions in interaction_matrix.iterrows():\n",
    "    gene_id = gene_to_id[gene]\n",
    "    for drug, interaction in interactions.items():\n",
    "        if interaction != 0:\n",
    "            drug_id = drug_to_id[drug]\n",
    "            edges.append((drug_id, gene_id))  # drug to gene edge\n"
   ]
  },
  {
   "cell_type": "code",
   "execution_count": 31,
   "metadata": {},
   "outputs": [],
   "source": [
    "# Construct the heterograph\n",
    "g = dgl.heterograph({\n",
    "    ('drug', 'dg', 'gene'): edges\n",
    "})"
   ]
  },
  {
   "cell_type": "code",
   "execution_count": 32,
   "metadata": {},
   "outputs": [
    {
     "name": "stderr",
     "output_type": "stream",
     "text": [
      "  0%|          | 0/1236 [00:00<?, ?it/s]"
     ]
    },
    {
     "name": "stderr",
     "output_type": "stream",
     "text": [
      "100%|██████████| 1236/1236 [00:00<00:00, 7135.18it/s]\n"
     ]
    }
   ],
   "source": [
    "model = MetaPath2Vec(g, ['dg'], window_size=5, walk_length=10, num_walks=80, workers=5)"
   ]
  },
  {
   "cell_type": "code",
   "execution_count": 33,
   "metadata": {},
   "outputs": [],
   "source": [
    "dataloader = DataLoader(torch.arange(g.num_nodes('drug')), batch_size=128,\n",
    "                        shuffle=True, collate_fn=model.sample)\n",
    "optimizer = SparseAdam(model.parameters(), lr=0.025)"
   ]
  },
  {
   "cell_type": "code",
   "execution_count": 34,
   "metadata": {},
   "outputs": [],
   "source": [
    "for (pos_u, pos_v, neg_v) in dataloader:\n",
    "    loss = model(pos_u, pos_v, neg_v)\n",
    "    optimizer.zero_grad()\n",
    "    loss.backward()\n",
    "    optimizer.step()"
   ]
  },
  {
   "cell_type": "code",
   "execution_count": 35,
   "metadata": {},
   "outputs": [],
   "source": [
    "# Get the embeddings of all drug nodes\n",
    "drug_nids = torch.LongTensor(model.local_to_global_nid['drug'])\n",
    "drug_emb = model.node_embed(drug_nids)"
   ]
  },
  {
   "cell_type": "code",
   "execution_count": 36,
   "metadata": {},
   "outputs": [],
   "source": [
    "# Get the embeddings of all gene nodes\n",
    "gene_nids = torch.LongTensor(model.local_to_global_nid['gene'])\n",
    "gene_emb = model.node_embed(gene_nids)"
   ]
  },
  {
   "cell_type": "code",
   "execution_count": 37,
   "metadata": {},
   "outputs": [],
   "source": [
    "# Create inverse mappings\n",
    "id_to_drug = {idx: drug for drug, idx in drug_to_id.items()}\n",
    "id_to_gene = {idx: gene for gene, idx in gene_to_id.items()}\n",
    "\n",
    "# Convert embeddings to DataFrames\n",
    "drug_embeddings_df = pd.DataFrame(drug_emb.detach().numpy())\n",
    "drug_embeddings_df.index = [id_to_drug[i] for i in range(drug_embeddings_df.shape[0])]\n",
    "\n",
    "gene_embeddings_df = pd.DataFrame(gene_emb.detach().numpy())\n",
    "gene_embeddings_df.index = [id_to_gene[i] for i in range(gene_embeddings_df.shape[0])]"
   ]
  },
  {
   "cell_type": "code",
   "execution_count": 38,
   "metadata": {},
   "outputs": [],
   "source": [
    "save_path = '../data/dgidb/embeddings'\n",
    "\n",
    "drug_embeddings_df.to_csv(save_path+'/metapath2vec_drug_embeddings.csv',header=None)\n",
    "gene_embeddings_df.to_csv(save_path+'/metapath2vec_gene_embeddings.csv',header=None)"
   ]
  }
 ],
 "metadata": {
  "kernelspec": {
   "display_name": "mlp",
   "language": "python",
   "name": "python3"
  },
  "language_info": {
   "codemirror_mode": {
    "name": "ipython",
    "version": 3
   },
   "file_extension": ".py",
   "mimetype": "text/x-python",
   "name": "python",
   "nbconvert_exporter": "python",
   "pygments_lexer": "ipython3",
   "version": "3.8.16"
  }
 },
 "nbformat": 4,
 "nbformat_minor": 2
}
