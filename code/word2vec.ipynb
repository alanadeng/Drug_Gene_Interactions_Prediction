{
 "cells": [
  {
   "cell_type": "code",
   "execution_count": 201,
   "metadata": {},
   "outputs": [],
   "source": [
    "import numpy as np\n",
    "import networkx as nx\n",
    "import pandas as pd\n",
    "from gensim.models import Word2Vec"
   ]
  },
  {
   "cell_type": "code",
   "execution_count": 202,
   "metadata": {},
   "outputs": [],
   "source": [
    "file_path = '../data/dgidb/preprocessed_34_10.tsv'\n",
    "interaction_matrix = pd.read_csv(file_path, sep='\\t', index_col=0)"
   ]
  },
  {
   "cell_type": "code",
   "execution_count": 203,
   "metadata": {},
   "outputs": [],
   "source": [
    "# Generate node lists\n",
    "drugs = list(interaction_matrix.columns)\n",
    "genes = list(interaction_matrix.index)\n",
    "\n",
    "edges = []\n",
    "for gene, interactions in interaction_matrix.iterrows():\n",
    "    for drug, interaction in interactions.items():\n",
    "        if interaction != 0:\n",
    "            edges.append((drug, gene))  # drug to gene edge"
   ]
  },
  {
   "cell_type": "code",
   "execution_count": 204,
   "metadata": {},
   "outputs": [
    {
     "data": {
      "text/plain": [
       "1236"
      ]
     },
     "execution_count": 204,
     "metadata": {},
     "output_type": "execute_result"
    }
   ],
   "source": [
    "len(drugs)"
   ]
  },
  {
   "cell_type": "code",
   "execution_count": 205,
   "metadata": {},
   "outputs": [],
   "source": [
    "model = Word2Vec(sentences=edges, vector_size=128, window=5, min_count=1, workers=5)"
   ]
  },
  {
   "cell_type": "code",
   "execution_count": 206,
   "metadata": {},
   "outputs": [],
   "source": [
    "# Extract embeddings for drugs and genes\n",
    "drug_embeddings = {drug: model.wv[drug] for drug in drugs if drug in model.wv}\n",
    "gene_embeddings = {gene: model.wv[gene] for gene in genes if gene in model.wv}\n",
    "\n",
    "# Convert to Pandas DataFrames\n",
    "df_drugs = pd.DataFrame(drug_embeddings).T\n",
    "df_genes = pd.DataFrame(gene_embeddings).T\n"
   ]
  },
  {
   "cell_type": "code",
   "execution_count": 207,
   "metadata": {},
   "outputs": [],
   "source": [
    "save_path = '../data/dgidb/embeddings'\n",
    "\n",
    "# Save to CSV files\n",
    "df_drugs.to_csv(save_path+'/word2vec_drug_embeddings.csv', header=None)\n",
    "df_genes.to_csv(save_path+'/word2vec_gene_embeddings.csv', header=None)"
   ]
  }
 ],
 "metadata": {
  "kernelspec": {
   "display_name": "mlp",
   "language": "python",
   "name": "python3"
  },
  "language_info": {
   "codemirror_mode": {
    "name": "ipython",
    "version": 3
   },
   "file_extension": ".py",
   "mimetype": "text/x-python",
   "name": "python",
   "nbconvert_exporter": "python",
   "pygments_lexer": "ipython3",
   "version": "3.8.16"
  }
 },
 "nbformat": 4,
 "nbformat_minor": 2
}
