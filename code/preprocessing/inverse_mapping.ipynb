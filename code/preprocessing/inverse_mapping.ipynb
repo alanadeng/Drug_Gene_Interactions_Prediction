{
 "cells": [
  {
   "cell_type": "code",
   "execution_count": 32,
   "metadata": {},
   "outputs": [],
   "source": [
    "import pandas as pd"
   ]
  },
  {
   "cell_type": "code",
   "execution_count": 33,
   "metadata": {},
   "outputs": [],
   "source": [
    "file_path = '../data/dgidb/'\n",
    "drug_mapping = pd.read_csv(file_path + 'drug_mapping.csv')\n",
    "gene_mapping = pd.read_csv(file_path + 'gene_mapping.csv')"
   ]
  },
  {
   "cell_type": "code",
   "execution_count": 34,
   "metadata": {},
   "outputs": [],
   "source": [
    "drug_reverse_mapping = dict(zip(drug_mapping['Renamed'], drug_mapping['Original Drug']))\n",
    "gene_reverse_mapping = dict(zip(gene_mapping['Renamed'], gene_mapping['Original Gene']))"
   ]
  },
  {
   "cell_type": "code",
   "execution_count": 35,
   "metadata": {},
   "outputs": [],
   "source": [
    "emd_path = '../data/dgidb/embeddings/'\n",
    "drug_df = pd.read_csv(emd_path+'vectors_u.dat', sep=' ', header=None)\n",
    "gene_df = pd.read_csv(emd_path+'vectors_v.dat', sep=' ', header=None)"
   ]
  },
  {
   "cell_type": "code",
   "execution_count": 36,
   "metadata": {},
   "outputs": [],
   "source": [
    "drug_df[0] = drug_df[0].map(drug_reverse_mapping)\n",
    "gene_df[0] = gene_df[0].map(gene_reverse_mapping)"
   ]
  },
  {
   "cell_type": "code",
   "execution_count": 39,
   "metadata": {},
   "outputs": [],
   "source": [
    "drug_df.to_csv(file_path+'embeddings/bine_drug_embeddings.csv', header=None,index=None)\n",
    "gene_df.to_csv(file_path+'embeddings/bine_gene_embeddings.csv', header=None,index=None)"
   ]
  }
 ],
 "metadata": {
  "kernelspec": {
   "display_name": "mlp",
   "language": "python",
   "name": "python3"
  },
  "language_info": {
   "codemirror_mode": {
    "name": "ipython",
    "version": 3
   },
   "file_extension": ".py",
   "mimetype": "text/x-python",
   "name": "python",
   "nbconvert_exporter": "python",
   "pygments_lexer": "ipython3",
   "version": "3.8.16"
  }
 },
 "nbformat": 4,
 "nbformat_minor": 2
}
